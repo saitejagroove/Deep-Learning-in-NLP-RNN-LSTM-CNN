{
 "cells": [
  {
   "cell_type": "code",
   "execution_count": 10,
   "metadata": {},
   "outputs": [],
   "source": [
    "from keras.models import Sequential\n",
    "from keras.preprocessing.text import Tokenizer\n",
    "from keras.preprocessing.sequence import pad_sequences\n",
    "from keras.callbacks import TensorBoard\n",
    "from keras.utils import plot_model\n",
    "from keras import optimizers\n",
    "\n",
    "from keras.layers import Conv1D,Conv2D, MaxPooling1D,MaxPooling2D, Embedding\n",
    "from keras.layers import Dense, Input, Flatten,Concatenate,merge, Dropout, Activation\n",
    "from keras.models import Model, Sequential\n",
    "from keras.optimizers import Adadelta, RMSprop\n",
    "\n",
    "from __future__ import absolute_import, division, print_function, unicode_literals\n",
    "import collections\n",
    "import matplotlib.pyplot as plt\n",
    "import numpy as np\n",
    "import tensorflow as tf\n",
    "import tensorflow_datasets as tfds\n",
    "from tensorflow.keras import layers\n",
    "\n",
    "import re\n",
    "import string\n",
    "from keras.utils import np_utils\n",
    "import pandas as pd\n",
    "import numpy as np\n",
    "\n",
    "# Importing data form the stanford datasets and Cornell polarity files\n",
    "fos  = 'original_rt_snippets.txt'\n",
    "fp = 'rt-polarity.pos'\n",
    "fn = 'rt-polarity.neg'\n",
    "fall = pd.read_csv('datasetSentences.txt',sep = \"\\t\",header = 0)\n",
    "fsplit = pd.read_csv('datasetSplit.txt', delimiter = \",\", header = 0)\n",
    "\n",
    "#preprocessing data for comparing and other uses\n",
    "def preprocessing(line):\n",
    "    newline = line\n",
    "    newline = newline.lower()\n",
    "    newline = re.sub('<.*?>', '',newline)        \n",
    "    newline = re.sub('<[a-zA-Z]','',newline)\n",
    "    newline = re.sub(r'[^\\w]','',newline)        \n",
    "    newline = re.sub(r'[0-9]','',newline)        \n",
    "    newline = re.sub(r'[^\\x00-\\x7f]','',newline)\n",
    "    return newline\n",
    "#Splitting lines fumction to store data\n",
    "def wordstolist(line):\n",
    "    newline = line\n",
    "    newline = newline.lower()\n",
    "    newline = re.sub(r'\\d+', '', newline)\n",
    "    newline = newline.translate(str.maketrans('', '', string.punctuation))\n",
    "    newline = newline.strip()\n",
    "    return newline\n",
    "def filterlines(line):\n",
    "    line= line.lower()\n",
    "    line = re.sub(r'[^\\w]','',line)\n",
    "    line = re.sub(r'[0-9]','',line)\n",
    "    line = re.sub(r'[^\\x00-\\x7f]','',line)\n",
    "    line = line.replace(\"lrb\", \"\")\n",
    "    line = line.replace(\"rrb\",\"\")\n",
    "    return line\n",
    "  \n",
    "    \n",
    "sf = []\n",
    "sp = []\n",
    "sn = []\n",
    "    \n",
    "sf = []\n",
    "\n",
    "#reading the data from original file and positive/negative files for comparision later\n",
    "with open(fos, 'rt', encoding = 'latin-1') as f:\n",
    "    for each_line in f:\n",
    "        each_line = preprocessing(each_line) \n",
    "        sf.append(each_line)    \n",
    "sp=[]\n",
    "with open(fp,'rt',encoding='latin-1') as f:\n",
    "    for each_line in f:\n",
    "        each_line = preprocessing(each_line)\n",
    "        sp.append(each_line)\n",
    "sn=[]\n",
    "with open(fn,'rt',encoding='latin-1') as f:\n",
    "    for each_line in f:\n",
    "        each_line = preprocessing(each_line)\n",
    "        sn.append(each_line)\n",
    "\n",
    "\n",
    "#Divinding and storing labels of lines based on their presence in Positive or negative\n",
    "labelsall = []\n",
    "for line in sf:\n",
    "    if any(line == text for text in sp):\n",
    "        labelsall.append(1)\n",
    "    elif any(line == text for text in sn):\n",
    "        labelsall.append(0)\n",
    "        #Through by lot of preprocessing process we get to know that there is one sentence which doesn't belong to any of the files \n",
    "    elif line ==\"ihavenoproblemwithdifficultmoviesormoviesthatasktheaudiencetomeetthemhalfwayandconnectthedotsinsteadofhavingthingsallspelledoutbutfirstyouhavetogivetheaudienceareasontowanttoputforthateffort\" :\n",
    "#       print('new')\n",
    "        labelsall.append(0)\n",
    "    else:\n",
    "        print (line)\n",
    "        \n",
    "#index finder\n",
    "def indSent(sen,allsen):\n",
    "    for ind in range(len(allsen)):\n",
    "        if sen in allsen[ind]:\n",
    "            return ind\n",
    "\n",
    "        \n",
    "labels=[]\n",
    "for sent in list(fall[\"sentence\"].values):\n",
    "    sent= filterlines(sent)\n",
    "    index = indSent(sent,sf)\n",
    "    labels.append(labelsall[index])\n",
    "    sf[index]= sf[index].replace(sent,\"$$\",1) \n",
    "fall[\"labels\"]=labels\n",
    "\n",
    "listall,listwords = [],[]\n",
    "trainind,testind,devind=[],[],[]\n",
    "totallabels,trainlabels,devlabels,testlabels=[],[],[],[]\n",
    "    \n",
    "for line in fall['sentence']:\n",
    "    exclude = set(string.punctuation)\n",
    "    line = ''.join(ch for ch in line if ch not in exclude)\n",
    "    listwords=[]\n",
    "    for word in line.split():\n",
    "        listwords.append(word)\n",
    "    listall.append(listwords)\n",
    "\n",
    "#storing indexes which will be used later to find Labels\n",
    "for k,i in enumerate(fsplit['splitset_label']):\n",
    "    if i==1:\n",
    "        trainind.append(k+1)\n",
    "    if i==2:\n",
    "        testind.append(k+1)\n",
    "    if i==3:\n",
    "        devind.append(k+1)\n",
    "    \n",
    "for i in fall['labels']:\n",
    "    totallabels.append(i)\n",
    "\n",
    "#creasting test dev train labels\n",
    "for i in trainind:\n",
    "    trainlabels.append(totallabels[i-1])\n",
    "for i in devind:\n",
    "    devlabels.append(totallabels[i-1])\n",
    "for i in testind:\n",
    "    testlabels.append(totallabels[i-1])\n",
    "    \n",
    "#Using tokenizer to find all words and max integers\n",
    "tokenizer = Tokenizer()\n",
    "# Calculating the frequency of words\n",
    "tokenizer.fit_on_texts(listall)\n",
    "# Convert array of sentences to list of sequences of integers\n",
    "sequences = tokenizer.texts_to_sequences(listall)\n",
    "\n",
    "# Dictionary keeping track of words to integer index\n",
    "word_index = tokenizer.word_index\n",
    "\n",
    "# Convert the array of sequences(of integers) to 2D array with padding\n",
    "data = pad_sequences(sequences)\n",
    "    \n",
    "listtrain=[]\n",
    "listdev=[]\n",
    "listtest=[]\n",
    "\n",
    "#creating train,dev,test lists of 2d arrays form data which will used as arrays later\n",
    "for i in trainind:\n",
    "    listtrain.append(list(data[i-1]))\n",
    "for i in devind:\n",
    "    listdev.append(list(data[i-1]))\n",
    "for i in testind:\n",
    "    listtest.append(list(data[i-1]))\n",
    "    "
   ]
  },
  {
   "cell_type": "code",
   "execution_count": 11,
   "metadata": {},
   "outputs": [],
   "source": [
    "#plotting function of history-loss and accuracy graphs of training and val/dev data \n",
    "def plot_history(history):\n",
    "    hist = pd.DataFrame(history.history)\n",
    "    hist['epoch'] = history.epoch\n",
    "    plt.figure()\n",
    "    plt.xlabel('Epoch')\n",
    "    plt.ylabel('acc')\n",
    "    plt.plot(hist['epoch'], hist['acc'],\n",
    "               label='Train Accuracy')\n",
    "    plt.plot(hist['epoch'], hist['val_acc'],\n",
    "               label = 'Val Accuracy')\n",
    "    plt.ylim([0,1])\n",
    "    plt.legend()\n",
    "\n",
    "    plt.figure()\n",
    "    plt.xlabel('Epoch')\n",
    "    plt.ylabel('loss')\n",
    "    plt.plot(hist['epoch'], hist['loss'],\n",
    "               label='Train Loss')\n",
    "    plt.plot(hist['epoch'], hist['val_loss'],\n",
    "               label = 'Val Loss')\n",
    "    plt.ylim([0,5])\n",
    "    plt.legend()\n",
    "    plt.show()   \n"
   ]
  },
  {
   "cell_type": "code",
   "execution_count": 12,
   "metadata": {},
   "outputs": [],
   "source": [
    "\n",
    "def main(cnn_model,hiddenunits,seqlen,learningrate):\n",
    "    embeddings_index = {}\n",
    "    print(\"*************************************************************************\")\n",
    "    print( \"Model = \"+ str(cnn_model) + \" hiddenunits = \"+str(hiddenunits) +\" seqlen=\" + str(seqlen)+ \" Learningrate=\"+ str(learningrate))\n",
    "\n",
    "\n",
    "    f = open('glove.6B.300d.txt','rt',encoding = 'utf8')\n",
    "    for line in f:\n",
    "        values = line.split()\n",
    "        word = values[0]\n",
    "        #print(word)\n",
    "        coefs = np.asarray(values[1:], dtype='float32')\n",
    "        embeddings_index[word] = coefs\n",
    "    f.close() \n",
    "    print('Found %s word vectors.' % len(embeddings_index))\n",
    "    \n",
    "    embedding_matrix = np.zeros((len(word_index) + 1, 300))\n",
    "    for word, i in word_index.items():\n",
    "        embedding_vector = embeddings_index.get(word)\n",
    "        if embedding_vector is not None:\n",
    "            # words not found in embedding index will be all-zeros.\n",
    "            embedding_matrix[i] = embedding_vector\n",
    "            \n",
    "    #defining parameters       \n",
    "    filtersize_list = [3, 4, 5]\n",
    "    number_of_filters_per_filtersize = [100, 100, 100]\n",
    "    pool_length_list = [2, 2, 2]\n",
    "    dropout_list = [0.5, 0.5]\n",
    "    optimizer = Adadelta(clipvalue=3)\n",
    "    use_embeddings = True\n",
    "    embeddings_trainable = False\n",
    "    \n",
    "    #Picking model according to arg\n",
    "    if (cnn_model.lower() == 'cnn-rand'):\n",
    "        use_embeddings = False\n",
    "        embeddings_trainable = True\n",
    "    elif (cnn_model.lower() == 'cnn-static'):\n",
    "        pass\n",
    "    elif (cnn_model.lower() == 'cnn-non-static'):\n",
    "        embeddings_trainable = True\n",
    "    else:\n",
    "        filtersize_list = [3, 4, 5]\n",
    "        number_of_filters_per_filtersize = [150, 150, 150]\n",
    "        pool_length_list = [2, 2, 2]\n",
    "        dropout_list = [0.25, 0.5]\n",
    "        optimizer = RMSprop(lr=learning_rate)\n",
    "        use_embeddings = True\n",
    "        embeddings_trainable = True\n",
    "        \n",
    "    #deciding which embedding to use \n",
    "    if (use_embeddings):\n",
    "        embedding_layer = Embedding(input_dim=(len(word_index) + 1), output_dim=300,\n",
    "                                    weights = [embedding_matrix],\n",
    "                                    input_length=52, trainable = embeddings_trainable)\n",
    "    else:\n",
    "        embedding_layer = Embedding(input_dim=(len(word_index) + 1), output_dim=300,\n",
    "                                    weights = None,\n",
    "                                    input_length=52, trainable = embeddings_trainable)\n",
    "\n",
    "    print('Defining model.')\n",
    "\n",
    "    #Designing the model \n",
    "    \n",
    "    input_node = Inputs(shape=(52, 300))\n",
    "    conv_list = []\n",
    "    for index, filtersize in enumerate(filtersize_list):\n",
    "        nb_filter = number_of_filters_per_filtersize[index]\n",
    "        pool_length = pool_length_list[index]\n",
    "        \n",
    "        \n",
    "        conv = Conv1D(nb_filter=nb_filter, filter_length=filtersize, activation='relu')(input_node)\n",
    "        pool = MaxPooling1D(pool_length=pool_length)(conv)\n",
    "        print(nb_filter,filtersize,pool_length,pool)\n",
    "        flatten = Flatten()(pool)\n",
    "        conv_list.append(flatten)\n",
    "\n",
    "    if (len(filtersize_list) > 1):\n",
    "        out = merge.concatenate(conv_list)\n",
    "    else:\n",
    "        out = conv_list[0]\n",
    "\n",
    "    graph = Model(input=input_node, output=out)\n",
    "\n",
    "    model = Sequential()\n",
    "    model.add(embedding_layer)\n",
    "    model.add(Dropout(dropout_list[0], input_shape=(seqlen, 300)))\n",
    "    model.add(graph)\n",
    "    model.add(Dense(hiddenunits))\n",
    "    model.add(Dropout(dropout_list[1]))\n",
    "    model.add(Dense(1, activation='sigmoid'))\n",
    "    adam = optimizers.Adam(lr = learningrate)\n",
    "    model.compile(loss='binary_crossentropy',optimizer=adam, metrics=['accuracy'])\n",
    "    return model\n",
    "\n"
   ]
  },
  {
   "cell_type": "code",
   "execution_count": 23,
   "metadata": {
    "scrolled": true
   },
   "outputs": [
    {
     "name": "stdout",
     "output_type": "stream",
     "text": [
      "*************************************************************************\n",
      "Model = cnn-static hiddenunits = 150 seqlen=52 Learningrate=0.001\n",
      "Found 400000 word vectors.\n",
      "Defining model.\n"
     ]
    },
    {
     "name": "stderr",
     "output_type": "stream",
     "text": [
      "D:\\anaconda\\lib\\site-packages\\ipykernel_launcher.py:67: UserWarning: Update your `Conv1D` call to the Keras 2 API: `Conv1D(activation=\"relu\", filters=100, kernel_size=3)`\n",
      "D:\\anaconda\\lib\\site-packages\\ipykernel_launcher.py:68: UserWarning: Update your `MaxPooling1D` call to the Keras 2 API: `MaxPooling1D(pool_size=2)`\n"
     ]
    },
    {
     "name": "stdout",
     "output_type": "stream",
     "text": [
      "100 3 2 Tensor(\"max_pooling1d_34/Squeeze:0\", shape=(?, 25, 100), dtype=float32)\n"
     ]
    },
    {
     "name": "stderr",
     "output_type": "stream",
     "text": [
      "D:\\anaconda\\lib\\site-packages\\ipykernel_launcher.py:67: UserWarning: Update your `Conv1D` call to the Keras 2 API: `Conv1D(activation=\"relu\", filters=100, kernel_size=4)`\n"
     ]
    },
    {
     "name": "stdout",
     "output_type": "stream",
     "text": [
      "100 4 2 Tensor(\"max_pooling1d_35/Squeeze:0\", shape=(?, 24, 100), dtype=float32)\n"
     ]
    },
    {
     "name": "stderr",
     "output_type": "stream",
     "text": [
      "D:\\anaconda\\lib\\site-packages\\ipykernel_launcher.py:67: UserWarning: Update your `Conv1D` call to the Keras 2 API: `Conv1D(activation=\"relu\", filters=100, kernel_size=5)`\n"
     ]
    },
    {
     "name": "stdout",
     "output_type": "stream",
     "text": [
      "100 5 2 Tensor(\"max_pooling1d_36/Squeeze:0\", shape=(?, 24, 100), dtype=float32)\n"
     ]
    },
    {
     "name": "stderr",
     "output_type": "stream",
     "text": [
      "D:\\anaconda\\lib\\site-packages\\ipykernel_launcher.py:78: UserWarning: Update your `Model` call to the Keras 2 API: `Model(inputs=Tensor(\"in..., outputs=Tensor(\"co...)`\n"
     ]
    },
    {
     "name": "stdout",
     "output_type": "stream",
     "text": [
      "Train on 8544 samples, validate on 1101 samples\n",
      "Epoch 1/4\n",
      " - 3s - loss: 1.3857 - acc: 0.5125 - val_loss: 0.7161 - val_acc: 0.5749\n",
      "Epoch 2/4\n",
      " - 1s - loss: 0.7182 - acc: 0.5479 - val_loss: 0.6897 - val_acc: 0.5758\n",
      "Epoch 3/4\n",
      " - 1s - loss: 0.6701 - acc: 0.6126 - val_loss: 0.6720 - val_acc: 0.6585\n",
      "Epoch 4/4\n",
      " - 1s - loss: 0.6277 - acc: 0.6763 - val_loss: 0.6122 - val_acc: 0.6839\n"
     ]
    },
    {
     "data": {
      "image/png": "[encoded data removed]",
      "text/plain": [
       "<Figure size 432x288 with 1 Axes>"
      ]
     },
     "metadata": {},
     "output_type": "display_data"
    },
    {
     "data": {
      "image/png": "[encoded data removed]",
      "text/plain": [
       "<Figure size 432x288 with 1 Axes>"
      ]
     },
     "metadata": {},
     "output_type": "display_data"
    }
   ],
   "source": [
    "    #CNN Static Model wih hidden units = 150 and max seq = 52, and Learning rate =0.001  - - ignore warnings\n",
    "    modelcnnstatic = main('cnn-static',150,52,0.001)\n",
    "    history = modelcnnstatic.fit(np.array(listtrain), np.array(trainlabels), epochs=4,verbose=2, batch_size=512, validation_data=(np.array(listdev),np.array(devlabels)))\n",
    "    hist = pd.DataFrame(history.history)\n",
    "    hist['epoch'] = history.epoch\n",
    "    plot_history(history)"
   ]
  },
  {
   "cell_type": "markdown",
   "metadata": {},
   "source": [
    "### CNN-Static\n",
    "#### Our train accuracy: 67.63%, Val Accuracy: 68.39% -for Hidden units = 512, DIM =300 and sequence length = 52"
   ]
  },
  {
   "cell_type": "code",
   "execution_count": 20,
   "metadata": {},
   "outputs": [
    {
     "name": "stdout",
     "output_type": "stream",
     "text": [
      "*************************************************************************\n",
      "Model = cnn-rand hiddenunits = 150 seqlen=52 Learningrate=0.001\n",
      "Found 400000 word vectors.\n",
      "Defining model.\n"
     ]
    },
    {
     "name": "stderr",
     "output_type": "stream",
     "text": [
      "D:\\anaconda\\lib\\site-packages\\ipykernel_launcher.py:67: UserWarning: Update your `Conv1D` call to the Keras 2 API: `Conv1D(activation=\"relu\", filters=100, kernel_size=3)`\n",
      "D:\\anaconda\\lib\\site-packages\\ipykernel_launcher.py:68: UserWarning: Update your `MaxPooling1D` call to the Keras 2 API: `MaxPooling1D(pool_size=2)`\n"
     ]
    },
    {
     "name": "stdout",
     "output_type": "stream",
     "text": [
      "100 3 2 Tensor(\"max_pooling1d_25/Squeeze:0\", shape=(?, 25, 100), dtype=float32)\n"
     ]
    },
    {
     "name": "stderr",
     "output_type": "stream",
     "text": [
      "D:\\anaconda\\lib\\site-packages\\ipykernel_launcher.py:67: UserWarning: Update your `Conv1D` call to the Keras 2 API: `Conv1D(activation=\"relu\", filters=100, kernel_size=4)`\n"
     ]
    },
    {
     "name": "stdout",
     "output_type": "stream",
     "text": [
      "100 4 2 Tensor(\"max_pooling1d_26/Squeeze:0\", shape=(?, 24, 100), dtype=float32)\n"
     ]
    },
    {
     "name": "stderr",
     "output_type": "stream",
     "text": [
      "D:\\anaconda\\lib\\site-packages\\ipykernel_launcher.py:67: UserWarning: Update your `Conv1D` call to the Keras 2 API: `Conv1D(activation=\"relu\", filters=100, kernel_size=5)`\n"
     ]
    },
    {
     "name": "stdout",
     "output_type": "stream",
     "text": [
      "100 5 2 Tensor(\"max_pooling1d_27/Squeeze:0\", shape=(?, 24, 100), dtype=float32)\n"
     ]
    },
    {
     "name": "stderr",
     "output_type": "stream",
     "text": [
      "D:\\anaconda\\lib\\site-packages\\ipykernel_launcher.py:78: UserWarning: Update your `Model` call to the Keras 2 API: `Model(inputs=Tensor(\"in..., outputs=Tensor(\"co...)`\n"
     ]
    },
    {
     "name": "stdout",
     "output_type": "stream",
     "text": [
      "Train on 8544 samples, validate on 1101 samples\n",
      "Epoch 1/4\n",
      " - 3s - loss: 0.7227 - acc: 0.5076 - val_loss: 0.6907 - val_acc: 0.5086\n",
      "Epoch 2/4\n",
      " - 1s - loss: 0.6756 - acc: 0.6018 - val_loss: 0.6741 - val_acc: 0.6421\n",
      "Epoch 3/4\n",
      " - 2s - loss: 0.5833 - acc: 0.7403 - val_loss: 0.5813 - val_acc: 0.7003\n",
      "Epoch 4/4\n",
      " - 1s - loss: 0.3538 - acc: 0.8511 - val_loss: 0.6441 - val_acc: 0.7039\n"
     ]
    },
    {
     "data": {
      "image/png": "[encoded data removed]",
      "text/plain": [
       "<Figure size 432x288 with 1 Axes>"
      ]
     },
     "metadata": {},
     "output_type": "display_data"
    },
    {
     "data": {
      "image/png": "[encoded data removed]",
      "text/plain": [
       "<Figure size 432x288 with 1 Axes>"
      ]
     },
     "metadata": {},
     "output_type": "display_data"
    }
   ],
   "source": [
    "    #CNN Rand Model wih hidden units = 150 and max seq = 52, and Learning rate =0.001  - - ignore warnings\n",
    "    modelcnnrand = main('cnn-rand',150,52,0.001)\n",
    "    history = modelcnnrand.fit(np.array(listtrain), np.array(trainlabels), epochs=4,verbose=2, batch_size=512, validation_data=(np.array(listdev),np.array(devlabels)))\n",
    "    hist = pd.DataFrame(history.history)\n",
    "    hist['epoch'] = history.epoch\n",
    "    plot_history(history)"
   ]
  },
  {
   "cell_type": "markdown",
   "metadata": {},
   "source": [
    "### CNN- Rand\n",
    "#### Our train accuracy: 85.11%, Val Accuracy: 70.39% -for Hidden units = 512, DIM =300 and sequence length = 52"
   ]
  },
  {
   "cell_type": "code",
   "execution_count": 22,
   "metadata": {},
   "outputs": [
    {
     "name": "stdout",
     "output_type": "stream",
     "text": [
      "*************************************************************************\n",
      "Model = cnn-non-static hiddenunits = 150 seqlen=52 Learningrate=0.001\n",
      "Found 400000 word vectors.\n",
      "Defining model.\n"
     ]
    },
    {
     "name": "stderr",
     "output_type": "stream",
     "text": [
      "D:\\anaconda\\lib\\site-packages\\ipykernel_launcher.py:67: UserWarning: Update your `Conv1D` call to the Keras 2 API: `Conv1D(activation=\"relu\", filters=100, kernel_size=3)`\n",
      "D:\\anaconda\\lib\\site-packages\\ipykernel_launcher.py:68: UserWarning: Update your `MaxPooling1D` call to the Keras 2 API: `MaxPooling1D(pool_size=2)`\n"
     ]
    },
    {
     "name": "stdout",
     "output_type": "stream",
     "text": [
      "100 3 2 Tensor(\"max_pooling1d_31/Squeeze:0\", shape=(?, 25, 100), dtype=float32)\n"
     ]
    },
    {
     "name": "stderr",
     "output_type": "stream",
     "text": [
      "D:\\anaconda\\lib\\site-packages\\ipykernel_launcher.py:67: UserWarning: Update your `Conv1D` call to the Keras 2 API: `Conv1D(activation=\"relu\", filters=100, kernel_size=4)`\n"
     ]
    },
    {
     "name": "stdout",
     "output_type": "stream",
     "text": [
      "100 4 2 Tensor(\"max_pooling1d_32/Squeeze:0\", shape=(?, 24, 100), dtype=float32)\n"
     ]
    },
    {
     "name": "stderr",
     "output_type": "stream",
     "text": [
      "D:\\anaconda\\lib\\site-packages\\ipykernel_launcher.py:67: UserWarning: Update your `Conv1D` call to the Keras 2 API: `Conv1D(activation=\"relu\", filters=100, kernel_size=5)`\n"
     ]
    },
    {
     "name": "stdout",
     "output_type": "stream",
     "text": [
      "100 5 2 Tensor(\"max_pooling1d_33/Squeeze:0\", shape=(?, 24, 100), dtype=float32)\n"
     ]
    },
    {
     "name": "stderr",
     "output_type": "stream",
     "text": [
      "D:\\anaconda\\lib\\site-packages\\ipykernel_launcher.py:78: UserWarning: Update your `Model` call to the Keras 2 API: `Model(inputs=Tensor(\"in..., outputs=Tensor(\"co...)`\n"
     ]
    },
    {
     "name": "stdout",
     "output_type": "stream",
     "text": [
      "Train on 8544 samples, validate on 1101 samples\n",
      "Epoch 1/7\n",
      " - 4s - loss: 1.6434 - acc: 0.5064 - val_loss: 0.7119 - val_acc: 0.5459\n",
      "Epoch 2/7\n",
      " - 1s - loss: 0.7280 - acc: 0.5503 - val_loss: 0.6968 - val_acc: 0.5295\n",
      "Epoch 3/7\n",
      " - 1s - loss: 0.6760 - acc: 0.5898 - val_loss: 0.6857 - val_acc: 0.6040\n",
      "Epoch 4/7\n",
      " - 1s - loss: 0.6481 - acc: 0.6515 - val_loss: 0.6644 - val_acc: 0.6694\n",
      "Epoch 5/7\n",
      " - 1s - loss: 0.5857 - acc: 0.7080 - val_loss: 0.5526 - val_acc: 0.7293\n",
      "Epoch 6/7\n",
      " - 1s - loss: 0.5054 - acc: 0.7539 - val_loss: 0.5110 - val_acc: 0.7575\n",
      "Epoch 7/7\n",
      " - 1s - loss: 0.4468 - acc: 0.7889 - val_loss: 0.5019 - val_acc: 0.7620\n"
     ]
    },
    {
     "data": {
      "image/png": "[encoded data removed]",
      "text/plain": [
       "<Figure size 432x288 with 1 Axes>"
      ]
     },
     "metadata": {},
     "output_type": "display_data"
    },
    {
     "data": {
      "image/png": "[encoded data removed]",
      "text/plain": [
       "<Figure size 432x288 with 1 Axes>"
      ]
     },
     "metadata": {},
     "output_type": "display_data"
    }
   ],
   "source": [
    "    #CNN Non Static Model wih hidden units = 150 and max seq = 52, and Learning rate =0.001  - - ignore warnings\n",
    "    modelcnnnonstatic = main('cnn-non-static',150,52,0.001)\n",
    "    history = modelcnnnonstatic.fit(np.array(listtrain), np.array(trainlabels), epochs=7,verbose=2, batch_size=512, validation_data=(np.array(listdev),np.array(devlabels)))\n",
    "    hist = pd.DataFrame(history.history)\n",
    "    hist['epoch'] = history.epoch\n",
    "    plot_history(history)"
   ]
  },
  {
   "cell_type": "markdown",
   "metadata": {},
   "source": [
    "### CNN- Non-Static\n",
    "#### Our train accuracy: 78.89%, Val Accuracy: 76.20% -for Hidden units = 512, DIM =300 and sequence length = 52"
   ]
  },
  {
   "cell_type": "code",
   "execution_count": 24,
   "metadata": {},
   "outputs": [
    {
     "name": "stdout",
     "output_type": "stream",
     "text": [
      "2210/2210 [==============================] - ETA:  - ETA:  - ETA:  - ETA:  - ETA:  - ETA:  - ETA:  - ETA:  - 0s 180us/step\n",
      "[[1]\n",
      " [1]\n",
      " [1]\n",
      " ...\n",
      " [1]\n",
      " [0]\n",
      " [0]]\n"
     ]
    }
   ],
   "source": [
    "testpred = modelcnnnonstatic.predict_classes(np.array(listtest))\n",
    "testacc =  modelcnnnonstatic.evaluate(np.array(listtest), np.array(testlabels))"
   ]
  },
  {
   "cell_type": "code",
   "execution_count": 25,
   "metadata": {},
   "outputs": [],
   "source": [
    "##Precision ##Recall ##F1 Measure\n",
    "from sklearn.metrics import confusion_matrix\n",
    "\n",
    "tn, fp, fn, tp = confusion_matrix(testlabels,testpred ).ravel()"
   ]
  },
  {
   "cell_type": "code",
   "execution_count": 26,
   "metadata": {},
   "outputs": [],
   "source": [
    "#precision = tp/tp+fp\n",
    "precision= tp/(tp+fp)\n",
    "\n",
    "#recall = tp/tp+fn\n",
    "recall = tp/(tp+fn)\n",
    "\n",
    "f1score= 2*precision/(recall+precision)"
   ]
  },
  {
   "cell_type": "code",
   "execution_count": 30,
   "metadata": {},
   "outputs": [
    {
     "name": "stdout",
     "output_type": "stream",
     "text": [
      "Test Accuracy =  [0.49338148427764755, 0.7719457013574661]\n",
      "Precision =  0.7444061962134251\n",
      "Recall =  0.8069029850746269\n",
      "F1 Score =  0.9597135183527304\n"
     ]
    }
   ],
   "source": [
    "print(\"Test Accuracy = \",testacc)\n",
    "print(\"Precision = \", precision)\n",
    "print(\"Recall = \", recall)\n",
    "print(\"F1 Score = \", f1score)"
   ]
  },
  {
   "cell_type": "markdown",
   "metadata": {},
   "source": [
    "#### Test Accuracy = 77.19%\n",
    "#### Precision =  0.7444061962134251\n",
    "#### Recall =  0.8069029850746269\n",
    "#### F1 Score =  0.9597135183527304"
   ]
  },
  {
   "cell_type": "markdown",
   "metadata": {},
   "source": [
    "### Conclusion:\n",
    "\n",
    "#### We got an test accuracy of 77.2% and  F1 score of 96% on our testing data using our best model CNN-Non-static.\n",
    "#### We got CNN-Non-Static model as our best model with Validation accuracy and training accuracy around 76.20% and 78.89% resepectively. Other models had high training accuracy compared to validation accuracy\n",
    "#### Observed overfitting after epoch 4 in CNN-Rand and  CNN-Static model while CNN-Non-Static was tolerant to overfitting until 8 epochs. Overfitting issue is high in CNN-Rand model.\n",
    "#### CNN -Static and CNN- Rand gave similar results in terms of Val accuracy around 70%.\n",
    "#### As expected, CNN- Non-static performs better because of fine tuning to the dataset which carries information about test data as well. CNN-Rand performs better than CNN-Static by a little because its trained on this dataset and has learned a significant amount and has a training accuracy of around 85%. CNN-Static performs worse because we haven't trained it on the training set and the results get worse when dealing with more specific tasks.\n",
    "#### Therefore, CNN-Non-Static was our best model and choice to use in cases of domain specific datasets.\n"
   ]
  },
  {
   "cell_type": "code",
   "execution_count": null,
   "metadata": {},
   "outputs": [],
   "source": []
  },
  {
   "cell_type": "code",
   "execution_count": null,
   "metadata": {},
   "outputs": [],
   "source": []
  }
 ],
 "metadata": {
  "kernelspec": {
   "display_name": "Python 3",
   "language": "python",
   "name": "python3"
  },
  "language_info": {
   "codemirror_mode": {
    "name": "ipython",
    "version": 3
   },
   "file_extension": ".py",
   "mimetype": "text/x-python",
   "name": "python",
   "nbconvert_exporter": "python",
   "pygments_lexer": "ipython3",
   "version": "3.6.5"
  }
 },
 "nbformat": 4,
 "nbformat_minor": 2
}
